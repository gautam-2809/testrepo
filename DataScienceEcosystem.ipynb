{
 "cells": [
  {
   "cell_type": "markdown",
   "id": "b8c25227-6c13-4532-9fe7-22bd38d1ea5c",
   "metadata": {},
   "source": [
    "# Data Science Tools and Ecosystem"
   ]
  },
  {
   "cell_type": "markdown",
   "id": "29bd8cf4-dff5-4769-b1b4-a5f4912b8b88",
   "metadata": {},
   "source": [
    "In this notebook, Data Science Tools and Ecosystem are summarized."
   ]
  },
  {
   "cell_type": "markdown",
   "id": "39b3b198-d7ed-4868-b4ba-d335d6ef8200",
   "metadata": {},
   "source": [
    "**Objectives:**\n",
    "- List popular languages for Data Science\n",
    "- Commonly used libraries used by Data Scientists\n",
    "- Data Science Tools\n",
    "- Evaluating arithmetic expressions in Python"
   ]
  },
  {
   "cell_type": "markdown",
   "id": "4ed073d5-96d1-4f77-af27-fab6272e87a0",
   "metadata": {},
   "source": [
    "Some of the popular languages that Data Scientists use are:\n",
    "1. Python\n",
    "2. R\n",
    "3. Julia"
   ]
  },
  {
   "cell_type": "markdown",
   "id": "83770b88-c92e-4bfc-861e-aa1ba98256c9",
   "metadata": {
    "tags": []
   },
   "source": [
    "Some of the commonly used libraries used by Data Scientists include:\n",
    "    \n",
    "1. pandas\n",
    "2. numpy\n",
    "3. scikit learn"
   ]
  },
  {
   "cell_type": "markdown",
   "id": "d4a29770-3590-41bd-b414-c83ffa1f0cc3",
   "metadata": {
    "tags": []
   },
   "source": [
    "|Data Science Tools|\n",
    "-------------------\n",
    "|Jupyter Notebook|\n",
    "|Jupyter Lab|\n",
    "|Collab|"
   ]
  },
  {
   "cell_type": "markdown",
   "id": "fe70b534-a900-4a39-aa23-6f41bf0db294",
   "metadata": {},
   "source": [
    "### Below are a few examples of evaluating arithmetic expressions in Python"
   ]
  },
  {
   "cell_type": "code",
   "execution_count": 2,
   "id": "006f4a47-2170-41ea-a18f-2dba8f81be51",
   "metadata": {
    "tags": []
   },
   "outputs": [
    {
     "data": {
      "text/plain": [
       "17"
      ]
     },
     "execution_count": 2,
     "metadata": {},
     "output_type": "execute_result"
    }
   ],
   "source": [
    "# This a simple arithmetic expression to mutiply then add integers\n",
    "(3*4)+5"
   ]
  },
  {
   "cell_type": "code",
   "execution_count": 3,
   "id": "cb376d5d-edff-4944-9cae-13cc48a95abf",
   "metadata": {
    "tags": []
   },
   "outputs": [
    {
     "data": {
      "text/plain": [
       "3.3333333333333335"
      ]
     },
     "execution_count": 3,
     "metadata": {},
     "output_type": "execute_result"
    }
   ],
   "source": [
    "# This will convert 200 minutes to hours by diving by 60\n",
    "200/60"
   ]
  },
  {
   "cell_type": "markdown",
   "id": "7cf9b01a-a86b-4e75-869c-394f319372bc",
   "metadata": {},
   "source": [
    "## Author\n",
    "Gautam"
   ]
  },
  {
   "cell_type": "code",
   "execution_count": null,
   "id": "f40f475e-69d8-48b7-89a9-945f0377e774",
   "metadata": {},
   "outputs": [],
   "source": []
  }
 ],
 "metadata": {
  "kernelspec": {
   "display_name": "Python",
   "language": "python",
   "name": "conda-env-python-py"
  },
  "language_info": {
   "codemirror_mode": {
    "name": "ipython",
    "version": 3
   },
   "file_extension": ".py",
   "mimetype": "text/x-python",
   "name": "python",
   "nbconvert_exporter": "python",
   "pygments_lexer": "ipython3",
   "version": "3.7.12"
  }
 },
 "nbformat": 4,
 "nbformat_minor": 5
}
